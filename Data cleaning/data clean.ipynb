{
 "cells": [
  {
   "cell_type": "code",
   "execution_count": 1,
   "id": "9e412469",
   "metadata": {},
   "outputs": [],
   "source": [
    "import numpy as np\n",
    "import pandas as pd\n",
    "import os"
   ]
  },
  {
   "cell_type": "markdown",
   "id": "73abd8ce",
   "metadata": {},
   "source": [
    "# Adding logo links in each points table data "
   ]
  },
  {
   "cell_type": "code",
   "execution_count": 106,
   "id": "f7be96e8",
   "metadata": {},
   "outputs": [],
   "source": [
    "logo_links = {'MUMBAI INDIANS': 'https://img1.hscicdn.com/image/upload/f_auto,t_ds_square_w_80/lsci/db/PICTURES/CMS/344000/344062.png',\n",
    "              'RISING PUNE SUPERGIANT': 'https://img1.hscicdn.com/image/upload/f_auto,t_ds_square_w_80/lsci/db/PICTURES/CMS/313500/313524.logo.png',\n",
    "              'DECCAN CHARGERS': 'https://img1.hscicdn.com/image/upload/f_auto,t_ds_square_w_80/lsci/db/PICTURES/CMS/321600/321684.jpg',\n",
    "              'SUNRISERS HYDERABAD': 'https://img1.hscicdn.com/image/upload/f_auto,t_ds_square_w_80/lsci/db/PICTURES/CMS/313400/313480.logo.png',\n",
    "              'KOLKATA KNIGHT RIDERS': 'https://img1.hscicdn.com/image/upload/f_auto,t_ds_square_w_80/lsci/db/PICTURES/CMS/313400/313419.logo.png',\n",
    "              'DELHI DAREDEVILS': 'https://img1.hscicdn.com/image/upload/f_auto,t_ds_square_w_80/lsci/db/PICTURES/CMS/313400/313422.logo.png',\n",
    "              'PUNJAB KINGS': 'https://img1.hscicdn.com/image/upload/f_auto,t_ds_square_w_80/lsci/db/PICTURES/CMS/317000/317003.png',\n",
    "              'LUCKNOW SUPER GIANTS': 'https://img1.hscicdn.com/image/upload/f_auto,t_ds_square_w_80/lsci/db/PICTURES/CMS/333800/333885.png',\n",
    "              'GUJARAT LIONS': 'https://img1.hscicdn.com/image/upload/f_auto,t_ds_square_w_80/lsci/db/PICTURES/CMS/313500/313525.logo.png',\n",
    "              'CHENNAI SUPER KINGS': 'https://img1.hscicdn.com/image/upload/f_auto,t_ds_square_w_80/lsci/db/PICTURES/CMS/313400/313421.logo.png',\n",
    "              'PUNE WARRIORS': 'https://img1.hscicdn.com/image/upload/f_auto,t_ds_square_w_80/lsci/db/PICTURES/CMS/156200/156230.png',\n",
    "              'DELHI CAPITALS': 'https://img1.hscicdn.com/image/upload/f_auto,t_ds_square_w_80/lsci/db/PICTURES/CMS/313400/313422.logo.png',\n",
    "              'KINGS XI PUNJAB': 'https://img1.hscicdn.com/image/upload/f_auto,t_ds_square_w_80/lsci/db/PICTURES/CMS/317000/317003.png',\n",
    "              'KOCHI TUSKERS KERALA': 'https://upload.wikimedia.org/wikipedia/en/9/96/Kochi_Tuskers_Kerala_Logo.svg',\n",
    "              'ROYAL CHALLENGERS BANGALORE': 'https://img1.hscicdn.com/image/upload/f_auto,t_ds_square_w_80/lsci/db/PICTURES/CMS/313400/313418.logo.png',\n",
    "              'RAJASTHAN ROYALS': 'https://img1.hscicdn.com/image/upload/f_auto,t_ds_square_w_80/lsci/db/PICTURES/CMS/313400/313423.logo.png',\n",
    "              'RISING PUNE SUPERGIANTS': 'https://img1.hscicdn.com/image/upload/f_auto,t_ds_square_w_80/lsci/db/PICTURES/CMS/313500/313524.logo.png',\n",
    "              'GUJARAT TITANS': 'https://img1.hscicdn.com/image/upload/f_auto,t_ds_square_w_80/lsci/db/PICTURES/CMS/334700/334707.png'}\n",
    "\n",
    "for x in range(2008, 2023):\n",
    "    df = pd.read_csv(f\"scraped data/points table/data{x}.csv\")\n",
    "    df['YEAR'] = x\n",
    "    for i in logo_links:\n",
    "        df.loc[df['TEAMS'] == i, 'LOGO'] = logo_links[i]\n",
    "\n",
    "    df.to_csv(f\"../data/points table/data{x}.csv\", index=False)"
   ]
  },
  {
   "cell_type": "markdown",
   "id": "c3279f41",
   "metadata": {},
   "source": [
    "# Cleaning match data and saving it"
   ]
  },
  {
   "cell_type": "code",
   "execution_count": 99,
   "id": "86a0e42d",
   "metadata": {},
   "outputs": [],
   "source": [
    "for i in range(2008, 2023):\n",
    "    files_name = os.listdir(f'scraped data/match data {i}')\n",
    "    for x in files_name:\n",
    "        df = pd.read_csv(f'scraped data/match data {i}/{x}')\n",
    "        \n",
    "        # ---------------- data cleaning & saving ---------------- #\n",
    "        df['data1'] = df['data'].str.split('\\n', expand=True)[0]\n",
    "        df['data2'] = df['data'].str.split('\\n', expand=True)[1]\n",
    "        df['date'] = df['data1'].str.split(',', expand=True)[0]\n",
    "        df['year'] = df['data1'].str.split(',', expand=True)[1].astype(int)\n",
    "        df['match'] = df['data1'].str.split(',', expand=True)[2].str.strip(' ')\n",
    "        df['team'] = df['data1'].str.split(',', expand=True)[3].str.split('vs', expand=True)[0].str.strip(' ')\n",
    "        df['opponent_team'] = df['data1'].str.split(',', expand=True)[3].str.split('vs', expand=True)[1].str.strip(' ')\n",
    "        df['winning_team'] = df['data2'].str.split('won by', expand=True)[0].str.strip(' ')\n",
    "        df['won_by'] = df['data2'].str.split('won by', expand=True)[1].str.split('(', expand=True)[0].str.strip(' ')\n",
    "        \n",
    "        df = df[['match', 'team', 'opponent_team', 'date', 'year', 'winning_team', 'won_by', 'scorecard']]\n",
    "        \n",
    "        df.to_csv(f'..\\\\data\\\\match data {i}\\\\{x}', index=False)"
   ]
  },
  {
   "cell_type": "markdown",
   "id": "b752753c",
   "metadata": {},
   "source": [
    "# adding logo links to each match data files"
   ]
  },
  {
   "cell_type": "code",
   "execution_count": 103,
   "id": "0c3abcc2",
   "metadata": {},
   "outputs": [],
   "source": [
    "teams_logo = {\n",
    "    'Super Giants': 'https://img1.hscicdn.com/image/upload/f_auto,t_ds_square_w_80/lsci/db/PICTURES/CMS/333800/333885.png',\n",
    "    'Royals': 'https://img1.hscicdn.com/image/upload/f_auto,t_ds_square_w_80/lsci/db/PICTURES/CMS/313400/313423.logo.png',\n",
    "    'Titans': 'https://img1.hscicdn.com/image/upload/f_auto,t_ds_square_w_80/lsci/db/PICTURES/CMS/334700/334707.png',\n",
    "    'Supergiants': 'https://img1.hscicdn.com/image/upload/f_auto,t_ds_square_w_80/lsci/db/PICTURES/CMS/333800/333885.png',\n",
    "    'Supergiant': 'https://img1.hscicdn.com/image/upload/f_auto,t_ds_square_w_80/lsci/db/PICTURES/CMS/333800/333885.png',\n",
    "    'Guj Lions': 'https://img1.hscicdn.com/image/upload/f_auto,t_ds_square_w_80/lsci/db/PICTURES/CMS/313500/313525.logo.png',\n",
    "    'Warriors': 'https://img1.hscicdn.com/image/upload/f_auto,t_ds_square_w_80/lsci/db/PICTURES/CMS/156200/156230.png',\n",
    "    'Mumbai': 'https://img1.hscicdn.com/image/upload/f_auto,t_ds_square_w_80/lsci/db/PICTURES/CMS/344000/344062.png',\n",
    "    'Kings XI': 'https://img1.hscicdn.com/image/upload/f_auto,t_ds_square_w_80/lsci/db/PICTURES/CMS/317000/317003.png',\n",
    "    'Super Kings': 'https://img1.hscicdn.com/image/upload/f_auto,t_ds_square_w_80/lsci/db/PICTURES/CMS/313400/313421.logo.png',\n",
    "    'Capitals': 'https://img1.hscicdn.com/image/upload/f_auto,t_ds_square_w_80/lsci/db/PICTURES/CMS/313400/313422.logo.png',\n",
    "    'Sunrisers': 'https://img1.hscicdn.com/image/upload/f_auto,t_ds_square_w_80/lsci/db/PICTURES/CMS/313400/313480.logo.png',\n",
    "    'Chargers': 'https://img1.hscicdn.com/image/upload/f_auto,t_ds_square_w_80/lsci/db/PICTURES/CMS/321600/321684.jpg',\n",
    "    'RCB': 'https://img1.hscicdn.com/image/upload/f_auto,t_ds_square_w_80/lsci/db/PICTURES/CMS/313400/313418.logo.png',\n",
    "    'Daredevils': 'https://img1.hscicdn.com/image/upload/f_auto,t_ds_square_w_80/lsci/db/PICTURES/CMS/313400/313422.logo.png',\n",
    "    'Punjab Kings': 'https://img1.hscicdn.com/image/upload/f_auto,t_ds_square_w_80/lsci/db/PICTURES/CMS/317000/317003.png',\n",
    "    'KKR': 'https://img1.hscicdn.com/image/upload/f_auto,t_ds_square_w_80/lsci/db/PICTURES/CMS/313400/313419.logo.png',\n",
    "    'Kochi': 'https://upload.wikimedia.org/wikipedia/en/9/96/Kochi_Tuskers_Kerala_Logo.svg'}\n",
    "\n",
    "\n",
    "for i in range(2008, 2023):\n",
    "    address = os.listdir(f'../data/match data {i}')\n",
    "    for x in address:\n",
    "        df = pd.read_csv(f'../data/match data {i}/{x}')\n",
    "        for j in teams_logo:\n",
    "            df.loc[df['team'].str.contains(j), 'team_logo'] = teams_logo[j]\n",
    "            df.loc[df['opponent_team'].str.contains(j), 'opponent_team_logo'] = teams_logo[j]\n",
    "\n",
    "        df.to_csv(f'../data/match data {i}/{x}', index=False)"
   ]
  }
 ],
 "metadata": {
  "kernelspec": {
   "display_name": "Python 3 (ipykernel)",
   "language": "python",
   "name": "python3"
  },
  "language_info": {
   "codemirror_mode": {
    "name": "ipython",
    "version": 3
   },
   "file_extension": ".py",
   "mimetype": "text/x-python",
   "name": "python",
   "nbconvert_exporter": "python",
   "pygments_lexer": "ipython3",
   "version": "3.9.13"
  }
 },
 "nbformat": 4,
 "nbformat_minor": 5
}
